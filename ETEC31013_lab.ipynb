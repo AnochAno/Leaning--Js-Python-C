{
  "nbformat": 4,
  "nbformat_minor": 0,
  "metadata": {
    "colab": {
      "provenance": [],
      "authorship_tag": "ABX9TyMNC+FxMbpPtWbxnkglWANw",
      "include_colab_link": true
    },
    "kernelspec": {
      "name": "python3",
      "display_name": "Python 3"
    },
    "language_info": {
      "name": "python"
    }
  },
  "cells": [
    {
      "cell_type": "markdown",
      "metadata": {
        "id": "view-in-github",
        "colab_type": "text"
      },
      "source": [
        "<a href=\"https://colab.research.google.com/github/AnochAno/Leaning-HTML-CSS-JS-python/blob/main/ETEC31013_lab.ipynb\" target=\"_parent\"><img src=\"https://colab.research.google.com/assets/colab-badge.svg\" alt=\"Open In Colab\"/></a>"
      ]
    },
    {
      "cell_type": "code",
      "execution_count": null,
      "metadata": {
        "colab": {
          "base_uri": "https://localhost:8080/"
        },
        "id": "N1xWtEEm6cRi",
        "outputId": "4f5ad23a-bab8-4af8-b696-b601005a141f"
      },
      "outputs": [
        {
          "output_type": "stream",
          "name": "stdout",
          "text": [
            "Slope is:  0.5\n"
          ]
        }
      ],
      "source": [
        "x1 = 0\n",
        "x2 = 10\n",
        "y1 = 5\n",
        "y2 = 10\n",
        "\n",
        "#process\n",
        "dx = x2 - x1\n",
        "dy = y2 - y1\n",
        "\n",
        "m = dy / dx\n",
        "\n",
        "#output\n",
        "print(\"Slope is: \" ,m)"
      ]
    },
    {
      "cell_type": "code",
      "source": [],
      "metadata": {
        "id": "DEBciZyP9oyJ"
      },
      "execution_count": null,
      "outputs": []
    },
    {
      "cell_type": "code",
      "execution_count": null,
      "metadata": {
        "colab": {
          "base_uri": "https://localhost:8080/"
        },
        "outputId": "3fb7088e-ed9c-438c-d240-a6860e249058",
        "id": "UGtftyQ-_S-T"
      },
      "outputs": [
        {
          "output_type": "stream",
          "name": "stdout",
          "text": [
            "The Slop is:  0.5\n"
          ]
        }
      ],
      "source": [
        "x1 = 0\n",
        "x2 = 10\n",
        "y1 = 5\n",
        "y2 = 10\n",
        "\n",
        "#process\n",
        "dx = x2 - x1\n",
        "dy = y2 - y1\n",
        "\n",
        "if dx == 0:\n",
        "  print (\"The slope is infinity\") #output\n",
        "else:\n",
        "  m = dy /dx\n",
        "  print (\"The Slop is: \", m) #output"
      ]
    },
    {
      "cell_type": "markdown",
      "source": [
        "#user inputs and type casting\n"
      ],
      "metadata": {
        "id": "zgUJkpaNJSSX"
      }
    },
    {
      "cell_type": "code",
      "source": [
        "name = input(\"Enter the name: \")\n",
        "age = int(input(\"Enter The Age: \"))\n",
        "by = 2023 - age\n",
        "print(\"Your Birthday Yaer: \",by)\n",
        "print(type(name))"
      ],
      "metadata": {
        "colab": {
          "base_uri": "https://localhost:8080/"
        },
        "id": "beRvcytkIhxZ",
        "outputId": "13e14667-7b7f-4976-c6a7-42ff9ed7ff14"
      },
      "execution_count": null,
      "outputs": [
        {
          "output_type": "stream",
          "name": "stdout",
          "text": [
            "Enter the name: kanna\n",
            "Enter The Age: 23\n",
            "Your Birthday Yaer:  2000\n",
            "<class 'str'>\n"
          ]
        }
      ]
    },
    {
      "cell_type": "markdown",
      "source": [
        "#Iteration"
      ],
      "metadata": {
        "id": "RkihFKdNJgMA"
      }
    },
    {
      "cell_type": "code",
      "source": [
        "count = \"Y\"\n",
        "while count ==\"Y\":\n",
        "    x1 = float (input(\"Enter The X1 value\"))\n",
        "    x2 = float (input(\"Enter The X2 value\"))\n",
        "    y1 =float (input(\"Enter The Y1 value\"))\n",
        "    y2 = float (input(\"Enter The X2 value\"))\n",
        "\n",
        "    #process\n",
        "    dx = x2 - x1\n",
        "    dy = y2 - y1\n",
        "\n",
        "    if dx == 0:\n",
        "      print (\"The slope is infinity\") #output\n",
        "    else:\n",
        "      m = dy /dx\n",
        "      print (\"The Slop is: \", m) #output\n",
        "\n",
        "    count = input(\"Do you want to continue(Y/n)\")"
      ],
      "metadata": {
        "colab": {
          "base_uri": "https://localhost:8080/"
        },
        "id": "pvOABY3eJdZf",
        "outputId": "79354a51-24b1-4bd0-f679-7653e8dafbca"
      },
      "execution_count": null,
      "outputs": [
        {
          "name": "stdout",
          "output_type": "stream",
          "text": [
            "Enter The X1 value15\n",
            "Enter The X2 value7\n",
            "Enter The Y1 value13\n",
            "Enter The X2 value6\n",
            "The Slop is:  0.875\n",
            "Do you want to continue(Y/n)Y\n",
            "Enter The X1 value12\n",
            "Enter The X2 value65\n",
            "Enter The Y1 value23\n",
            "Enter The X2 value15\n",
            "The Slop is:  -0.1509433962264151\n",
            "Do you want to continue(Y/n)n\n"
          ]
        }
      ]
    },
    {
      "cell_type": "markdown",
      "source": [
        "#Quadratric Eqation solving"
      ],
      "metadata": {
        "id": "qY6D9EXFfm84"
      }
    },
    {
      "cell_type": "code",
      "source": [
        "import math\n",
        "\n",
        "#get inputs\n",
        "b = float (input(\"Enter the b Value: \"))\n",
        "a = float (input (\"Enter the a Value: \"))\n",
        "c = float (input (\"Enter the c Value: \"))\n",
        "\n",
        "#Calculate the Root value of quadratic Equation\n",
        "discriminant = b**2 - 4*a*c\n",
        "\n",
        "if discriminant >= 0:\n",
        "  sqrtValue = float (math.sqrt(discriminant))\n",
        "  x = -b + (sqrtValue/2*a)\n",
        "else :\n",
        "  print(\"Can't Define\")\n",
        "\n",
        "print (\"Root of b**2 - 4*a*c =\" ,sqrtValue)\n",
        "x = -b + (sqrtValue) / 2*a\n",
        "print(\"value of x = \", x)\n",
        "\n",
        "#Identify the Root of X\n",
        "if (b*b) - (4*a*c) == 0 :\n",
        "  print(\"X has only one Root\")\n",
        "elif(b*b) - (4*a*c) > 0:\n",
        "  print(\"X has two Root\")\n",
        "else:\n",
        "  print(\"X has Complex Roots\")\n",
        "\n",
        "\n"
      ],
      "metadata": {
        "colab": {
          "base_uri": "https://localhost:8080/"
        },
        "id": "eUm52DnNfja9",
        "outputId": "7e9b8e45-3757-4cee-d4b8-e8208a3eed60"
      },
      "execution_count": 13,
      "outputs": [
        {
          "output_type": "stream",
          "name": "stdout",
          "text": [
            "Enter the b Value: 150\n",
            "Enter the a Value: 1\n",
            "Enter the c Value: 2\n",
            "Root of b**2 - 4*a*c = 149.97333096254147\n",
            "value of x =  -75.01333451872927\n",
            "X has two Root\n"
          ]
        }
      ]
    }
  ]
}