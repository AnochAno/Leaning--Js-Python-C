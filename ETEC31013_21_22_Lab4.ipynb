{
  "nbformat": 4,
  "nbformat_minor": 0,
  "metadata": {
    "colab": {
      "provenance": [],
      "toc_visible": true,
      "include_colab_link": true
    },
    "kernelspec": {
      "name": "python3",
      "display_name": "Python 3"
    },
    "language_info": {
      "name": "python"
    }
  },
  "cells": [
    {
      "cell_type": "markdown",
      "metadata": {
        "id": "view-in-github",
        "colab_type": "text"
      },
      "source": [
        "<a href=\"https://colab.research.google.com/github/AnochAno/Leaning-HTML-CSS-JS-python/blob/main/ETEC31013_21_22_Lab4.ipynb\" target=\"_parent\"><img src=\"https://colab.research.google.com/assets/colab-badge.svg\" alt=\"Open In Colab\"/></a>"
      ]
    },
    {
      "cell_type": "markdown",
      "source": [
        "##3.1 Cashier's receipt\n",
        "Write a program to where the user inputs product type and quantity. The program should calculate and print the final receipt as given below. You have to use\n",
        "* a dictionary\n",
        "* list and the sum() function\n",
        "* for loop and range() function\n",
        "\n",
        "#### Sample output\n",
        "```\n",
        "Sales receipt\n",
        "=============\n",
        "\n",
        "Product      Quantity      Price\n",
        "--------     --------      -----\n",
        "Bread           2           250.00\n",
        "Milk            1          1400.00\n",
        "Soap            3           300.00\n",
        "                           -------\n",
        "Total           6          1950.00\n",
        "                           =======\n",
        "\n",
        "```\n",
        "\n"
      ],
      "metadata": {
        "id": "sTm5Kc3MZlRI"
      }
    },
    {
      "cell_type": "markdown",
      "source": [
        "# New Section"
      ],
      "metadata": {
        "id": "Lif1_SwP8wpG"
      }
    },
    {
      "cell_type": "code",
      "execution_count": 2,
      "metadata": {
        "id": "en4xNJMmZiaA"
      },
      "outputs": [],
      "source": [
        "def print_receipt(prdlist, qlist, prclist):\n",
        "  S = \"Sales Receipt\"\n",
        "  S += \"=============\"\n",
        "\n",
        "\n",
        "\n",
        "  print(S)\n",
        "  return 0\n",
        "\n",
        "##Main Program ##"
      ]
    },
    {
      "cell_type": "code",
      "source": [
        "n=10\n",
        "c=input(\"Enter code: \")\n",
        "for i in range(n):\n",
        "  if c == \"\":\n",
        "    break\n",
        "  else:\n",
        "    print(c)\n",
        "    continue"
      ],
      "metadata": {
        "colab": {
          "base_uri": "https://localhost:8080/"
        },
        "id": "P_rs8Pme_kio",
        "outputId": "7563f2aa-368b-4a2a-8b87-58182070703f"
      },
      "execution_count": null,
      "outputs": [
        {
          "output_type": "stream",
          "name": "stdout",
          "text": [
            "Enter code: vvvv\n",
            "vvvv\n",
            "vvvv\n",
            "vvvv\n",
            "vvvv\n",
            "vvvv\n",
            "vvvv\n",
            "vvvv\n",
            "vvvv\n",
            "vvvv\n",
            "vvvv\n"
          ]
        }
      ]
    },
    {
      "cell_type": "code",
      "source": [
        "pos=[[0,0,1],[1,0,1],[2,4,5]]\n",
        "\n",
        "for i in range(len(pos)):\n",
        "  s=\"\"\n",
        "  for j in range(3):\n",
        "    s += str(pos[i][j])+\" \"\n",
        "  print(s)"
      ],
      "metadata": {
        "colab": {
          "base_uri": "https://localhost:8080/"
        },
        "id": "9djEBnj2D1w9",
        "outputId": "6183ae72-fe9f-4e78-cd4f-fd4caf6867b0"
      },
      "execution_count": null,
      "outputs": [
        {
          "output_type": "stream",
          "name": "stdout",
          "text": [
            "0 0 1 \n",
            "1 0 1 \n",
            "2 4 5 \n"
          ]
        }
      ]
    },
    {
      "cell_type": "code",
      "source": [
        "a = list(range(100))\n",
        "print(a)\n",
        "print(sum(a))"
      ],
      "metadata": {
        "colab": {
          "base_uri": "https://localhost:8080/"
        },
        "id": "bFJNir5uGkzq",
        "outputId": "ae389fd0-9432-42ac-88e1-b26b82d24ca0"
      },
      "execution_count": null,
      "outputs": [
        {
          "output_type": "stream",
          "name": "stdout",
          "text": [
            "[0, 1, 2, 3, 4, 5, 6, 7, 8, 9, 10, 11, 12, 13, 14, 15, 16, 17, 18, 19, 20, 21, 22, 23, 24, 25, 26, 27, 28, 29, 30, 31, 32, 33, 34, 35, 36, 37, 38, 39, 40, 41, 42, 43, 44, 45, 46, 47, 48, 49, 50, 51, 52, 53, 54, 55, 56, 57, 58, 59, 60, 61, 62, 63, 64, 65, 66, 67, 68, 69, 70, 71, 72, 73, 74, 75, 76, 77, 78, 79, 80, 81, 82, 83, 84, 85, 86, 87, 88, 89, 90, 91, 92, 93, 94, 95, 96, 97, 98, 99]\n",
            "4950\n"
          ]
        }
      ]
    }
  ]
}